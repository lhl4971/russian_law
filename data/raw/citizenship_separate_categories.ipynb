{
 "cells": [
  {
   "cell_type": "code",
   "execution_count": 1,
   "id": "b6c2cdaa",
   "metadata": {},
   "outputs": [],
   "source": [
    "import os\n",
    "import sys\n",
    "import json\n",
    "import requests\n",
    "sys.path.insert(0, \"../..\")\n",
    "from src.fetch.fetch_doc_lists import parse_file_list_docx"
   ]
  },
  {
   "cell_type": "code",
   "execution_count": 2,
   "id": "e2706aa2",
   "metadata": {},
   "outputs": [],
   "source": [
    "with open(\"../../data/processed/list_and_blanks/state_duty.json\", \"r\", encoding=\"utf-8\") as f:\n",
    "    state_duty = json.load(f)\n",
    "with open(\"../../data/processed/list_and_blanks/review_period.json\", \"r\", encoding=\"utf-8\") as f:\n",
    "    review_period = json.load(f)"
   ]
  },
  {
   "cell_type": "code",
   "execution_count": 3,
   "id": "f1dcf923",
   "metadata": {},
   "outputs": [],
   "source": [
    "with open(\"../../data/processed/list_and_blanks/list_citizenship_separate_categories.json\", \"r\", encoding=\"utf-8\") as f:\n",
    "    input_data = json.load(f)\n",
    "\n",
    "for item in input_data:\n",
    "    os.makedirs(\"../../data/raw/citizenship_separate_categories_raw\", exist_ok=True)\n",
    "    url = item[\"href\"]\n",
    "    filename = url.split(\"/\")[-1]\n",
    "    filepath = os.path.join(\"../../data/raw/citizenship_separate_categories_raw\", filename)\n",
    "    # 下载文件（若不存在）\n",
    "    if not os.path.exists(filepath):\n",
    "        r = requests.get(url, headers={\"User-Agent\": \"Mozilla/5.0\"}, verify=False)\n",
    "        r.raise_for_status()\n",
    "        with open(filepath, \"wb\") as f:\n",
    "            f.write(r.content)\n",
    "        print(f\"下载完成: {filename}\")"
   ]
  },
  {
   "cell_type": "code",
   "execution_count": 4,
   "id": "28daa201",
   "metadata": {},
   "outputs": [],
   "source": [
    "results = {}\n",
    "application_type = \"Гражданство (отдельные категории)\"\n",
    "results[application_type] = []\n",
    "\n",
    "with open(\"../../data/processed/list_and_blanks/list_citizenship_separate_categories_processed.json\", \"r\", encoding=\"utf-8\") as f:\n",
    "    input_data = json.load(f)\n",
    "\n",
    "for item in input_data:\n",
    "    # 添加结果\n",
    "    required_documents_list = parse_file_list_docx(filepath)\n",
    "    results[application_type].append({\n",
    "        \"id\": len(results[application_type]),\n",
    "        \"application_type\": application_type,\n",
    "        \"text\": item[\"text\"],\n",
    "        \"required_documents_list\": required_documents_list,\n",
    "        \"state_duty_law\": state_duty[application_type][\"law\"],\n",
    "        \"receipt_form_payment\": state_duty[application_type][\"href\"],\n",
    "        \"review_period\": review_period[application_type][\"review_period\"]\n",
    "    })"
   ]
  },
  {
   "cell_type": "code",
   "execution_count": 5,
   "id": "78c71eba",
   "metadata": {},
   "outputs": [
    {
     "name": "stdout",
     "output_type": "stream",
     "text": [
      "解析完成，结果已保存到 data/processed/list_and_blanks/parsed_doc_lists.json\n"
     ]
    }
   ],
   "source": [
    "with open(\"../../data/processed/list_and_blanks/parsed_doc_lists.json\", \"r\", encoding=\"utf-8\") as f:\n",
    "    parsed_doc_lists = json.load(f)\n",
    "parsed_doc_lists.update(results)\n",
    "\n",
    "# 保存结果\n",
    "with open(\"../../data/processed/list_and_blanks/parsed_doc_lists.json\", \"w\", encoding=\"utf-8\") as f:\n",
    "    json.dump(parsed_doc_lists, f, ensure_ascii=False, indent=2)\n",
    "\n",
    "print(\"解析完成，结果已保存到 data/processed/list_and_blanks/parsed_doc_lists.json\")"
   ]
  }
 ],
 "metadata": {
  "kernelspec": {
   "display_name": "deep_learning",
   "language": "python",
   "name": "python3"
  },
  "language_info": {
   "codemirror_mode": {
    "name": "ipython",
    "version": 3
   },
   "file_extension": ".py",
   "mimetype": "text/x-python",
   "name": "python",
   "nbconvert_exporter": "python",
   "pygments_lexer": "ipython3",
   "version": "3.12.9"
  }
 },
 "nbformat": 4,
 "nbformat_minor": 5
}
